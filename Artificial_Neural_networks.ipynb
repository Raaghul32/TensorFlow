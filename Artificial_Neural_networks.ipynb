{
  "nbformat": 4,
  "nbformat_minor": 0,
  "metadata": {
    "colab": {
      "name": "Artificial Neural networks.ipynb",
      "provenance": [],
      "authorship_tag": "ABX9TyM+yqqVerGDlLXEPE9S1xXb",
      "include_colab_link": true
    },
    "kernelspec": {
      "name": "python3",
      "display_name": "Python 3"
    }
  },
  "cells": [
    {
      "cell_type": "markdown",
      "metadata": {
        "id": "view-in-github",
        "colab_type": "text"
      },
      "source": [
        "<a href=\"https://colab.research.google.com/github/Raaghul32/TensorFlow/blob/master/Artificial_Neural_networks.ipynb\" target=\"_parent\"><img src=\"https://colab.research.google.com/assets/colab-badge.svg\" alt=\"Open In Colab\"/></a>"
      ]
    },
    {
      "cell_type": "code",
      "metadata": {
        "id": "QC8TJnMeBjhy",
        "colab_type": "code",
        "colab": {}
      },
      "source": [
        "import pandas as pd"
      ],
      "execution_count": 0,
      "outputs": []
    },
    {
      "cell_type": "code",
      "metadata": {
        "id": "XEndVlqYCN0s",
        "colab_type": "code",
        "colab": {}
      },
      "source": [
        "df=pd.read_csv('Churn_Modelling.csv')"
      ],
      "execution_count": 0,
      "outputs": []
    },
    {
      "cell_type": "code",
      "metadata": {
        "id": "puO3Yd4wCdSK",
        "colab_type": "code",
        "outputId": "dac2526f-49ea-4e1a-b711-2f130d8e4cc3",
        "colab": {
          "base_uri": "https://localhost:8080/",
          "height": 224
        }
      },
      "source": [
        "df.head(5)"
      ],
      "execution_count": 11,
      "outputs": [
        {
          "output_type": "execute_result",
          "data": {
            "text/html": [
              "<div>\n",
              "<style scoped>\n",
              "    .dataframe tbody tr th:only-of-type {\n",
              "        vertical-align: middle;\n",
              "    }\n",
              "\n",
              "    .dataframe tbody tr th {\n",
              "        vertical-align: top;\n",
              "    }\n",
              "\n",
              "    .dataframe thead th {\n",
              "        text-align: right;\n",
              "    }\n",
              "</style>\n",
              "<table border=\"1\" class=\"dataframe\">\n",
              "  <thead>\n",
              "    <tr style=\"text-align: right;\">\n",
              "      <th></th>\n",
              "      <th>RowNumber</th>\n",
              "      <th>CustomerId</th>\n",
              "      <th>Surname</th>\n",
              "      <th>CreditScore</th>\n",
              "      <th>Geography</th>\n",
              "      <th>Gender</th>\n",
              "      <th>Age</th>\n",
              "      <th>Tenure</th>\n",
              "      <th>Balance</th>\n",
              "      <th>NumOfProducts</th>\n",
              "      <th>HasCrCard</th>\n",
              "      <th>IsActiveMember</th>\n",
              "      <th>EstimatedSalary</th>\n",
              "      <th>Exited</th>\n",
              "    </tr>\n",
              "  </thead>\n",
              "  <tbody>\n",
              "    <tr>\n",
              "      <th>0</th>\n",
              "      <td>1</td>\n",
              "      <td>15634602</td>\n",
              "      <td>Hargrave</td>\n",
              "      <td>619</td>\n",
              "      <td>France</td>\n",
              "      <td>Female</td>\n",
              "      <td>42</td>\n",
              "      <td>2</td>\n",
              "      <td>0.00</td>\n",
              "      <td>1</td>\n",
              "      <td>1</td>\n",
              "      <td>1</td>\n",
              "      <td>101348.88</td>\n",
              "      <td>1</td>\n",
              "    </tr>\n",
              "    <tr>\n",
              "      <th>1</th>\n",
              "      <td>2</td>\n",
              "      <td>15647311</td>\n",
              "      <td>Hill</td>\n",
              "      <td>608</td>\n",
              "      <td>Spain</td>\n",
              "      <td>Female</td>\n",
              "      <td>41</td>\n",
              "      <td>1</td>\n",
              "      <td>83807.86</td>\n",
              "      <td>1</td>\n",
              "      <td>0</td>\n",
              "      <td>1</td>\n",
              "      <td>112542.58</td>\n",
              "      <td>0</td>\n",
              "    </tr>\n",
              "    <tr>\n",
              "      <th>2</th>\n",
              "      <td>3</td>\n",
              "      <td>15619304</td>\n",
              "      <td>Onio</td>\n",
              "      <td>502</td>\n",
              "      <td>France</td>\n",
              "      <td>Female</td>\n",
              "      <td>42</td>\n",
              "      <td>8</td>\n",
              "      <td>159660.80</td>\n",
              "      <td>3</td>\n",
              "      <td>1</td>\n",
              "      <td>0</td>\n",
              "      <td>113931.57</td>\n",
              "      <td>1</td>\n",
              "    </tr>\n",
              "    <tr>\n",
              "      <th>3</th>\n",
              "      <td>4</td>\n",
              "      <td>15701354</td>\n",
              "      <td>Boni</td>\n",
              "      <td>699</td>\n",
              "      <td>France</td>\n",
              "      <td>Female</td>\n",
              "      <td>39</td>\n",
              "      <td>1</td>\n",
              "      <td>0.00</td>\n",
              "      <td>2</td>\n",
              "      <td>0</td>\n",
              "      <td>0</td>\n",
              "      <td>93826.63</td>\n",
              "      <td>0</td>\n",
              "    </tr>\n",
              "    <tr>\n",
              "      <th>4</th>\n",
              "      <td>5</td>\n",
              "      <td>15737888</td>\n",
              "      <td>Mitchell</td>\n",
              "      <td>850</td>\n",
              "      <td>Spain</td>\n",
              "      <td>Female</td>\n",
              "      <td>43</td>\n",
              "      <td>2</td>\n",
              "      <td>125510.82</td>\n",
              "      <td>1</td>\n",
              "      <td>1</td>\n",
              "      <td>1</td>\n",
              "      <td>79084.10</td>\n",
              "      <td>0</td>\n",
              "    </tr>\n",
              "  </tbody>\n",
              "</table>\n",
              "</div>"
            ],
            "text/plain": [
              "   RowNumber  CustomerId   Surname  ...  IsActiveMember EstimatedSalary Exited\n",
              "0          1    15634602  Hargrave  ...               1       101348.88      1\n",
              "1          2    15647311      Hill  ...               1       112542.58      0\n",
              "2          3    15619304      Onio  ...               0       113931.57      1\n",
              "3          4    15701354      Boni  ...               0        93826.63      0\n",
              "4          5    15737888  Mitchell  ...               1        79084.10      0\n",
              "\n",
              "[5 rows x 14 columns]"
            ]
          },
          "metadata": {
            "tags": []
          },
          "execution_count": 11
        }
      ]
    },
    {
      "cell_type": "code",
      "metadata": {
        "id": "HJ5b6dg7Gwy0",
        "colab_type": "code",
        "colab": {}
      },
      "source": [
        "X = df.iloc[:,3:13].values\n",
        "y= df.iloc[:,-1].values"
      ],
      "execution_count": 0,
      "outputs": []
    },
    {
      "cell_type": "code",
      "metadata": {
        "id": "Pr4-k_4THBAg",
        "colab_type": "code",
        "colab": {}
      },
      "source": [
        "import keras\n",
        "import tensorflow\n",
        "from sklearn.compose import ColumnTransformer\n",
        "import numpy as np"
      ],
      "execution_count": 0,
      "outputs": []
    },
    {
      "cell_type": "code",
      "metadata": {
        "id": "0H-bfmk4MiWC",
        "colab_type": "code",
        "colab": {}
      },
      "source": [
        "\n"
      ],
      "execution_count": 0,
      "outputs": []
    },
    {
      "cell_type": "code",
      "metadata": {
        "id": "PFB-G7moU_gO",
        "colab_type": "code",
        "colab": {}
      },
      "source": [
        "from sklearn.preprocessing import LabelEncoder,OneHotEncoder\n",
        "lt=LabelEncoder()\n",
        "X[:,2]=lt.fit_transform(X[:,2])"
      ],
      "execution_count": 0,
      "outputs": []
    },
    {
      "cell_type": "code",
      "metadata": {
        "id": "LpYpwb_1Uv-k",
        "colab_type": "code",
        "colab": {
          "base_uri": "https://localhost:8080/",
          "height": 136
        },
        "outputId": "4a212d18-e622-49c7-f65e-59d7929084f0"
      },
      "source": [
        "X"
      ],
      "execution_count": 88,
      "outputs": [
        {
          "output_type": "execute_result",
          "data": {
            "text/plain": [
              "array([[619, 'France', 0, ..., 1, 1, 101348.88],\n",
              "       [608, 'Spain', 0, ..., 0, 1, 112542.58],\n",
              "       [502, 'France', 0, ..., 1, 0, 113931.57],\n",
              "       ...,\n",
              "       [709, 'France', 0, ..., 0, 1, 42085.58],\n",
              "       [772, 'Germany', 1, ..., 1, 0, 92888.52],\n",
              "       [792, 'France', 0, ..., 1, 0, 38190.78]], dtype=object)"
            ]
          },
          "metadata": {
            "tags": []
          },
          "execution_count": 88
        }
      ]
    },
    {
      "cell_type": "code",
      "metadata": {
        "id": "u6p_tKTJOJGo",
        "colab_type": "code",
        "colab": {}
      },
      "source": [
        "columnTransformer = ColumnTransformer([('encoder', OneHotEncoder(), [1])], remainder='passthrough')"
      ],
      "execution_count": 0,
      "outputs": []
    },
    {
      "cell_type": "code",
      "metadata": {
        "id": "XbJPQLAkOd4p",
        "colab_type": "code",
        "colab": {}
      },
      "source": [
        "X = np.array(columnTransformer.fit_transform(X), dtype = np.str)"
      ],
      "execution_count": 0,
      "outputs": []
    },
    {
      "cell_type": "code",
      "metadata": {
        "id": "r9Q3B6H0N6AM",
        "colab_type": "code",
        "colab": {}
      },
      "source": [
        ""
      ],
      "execution_count": 0,
      "outputs": []
    },
    {
      "cell_type": "code",
      "metadata": {
        "id": "sbnQ1dr4Pv4-",
        "colab_type": "code",
        "colab": {
          "base_uri": "https://localhost:8080/",
          "height": 136
        },
        "outputId": "b3df17fa-a6a1-44cb-8df4-cf0ac4343e9a"
      },
      "source": [
        "X"
      ],
      "execution_count": 91,
      "outputs": [
        {
          "output_type": "execute_result",
          "data": {
            "text/plain": [
              "array([['1.0', '0.0', '0.0', ..., '1', '1', '101348.88'],\n",
              "       ['0.0', '0.0', '1.0', ..., '0', '1', '112542.58'],\n",
              "       ['1.0', '0.0', '0.0', ..., '1', '0', '113931.57'],\n",
              "       ...,\n",
              "       ['1.0', '0.0', '0.0', ..., '0', '1', '42085.58'],\n",
              "       ['0.0', '1.0', '0.0', ..., '1', '0', '92888.52'],\n",
              "       ['1.0', '0.0', '0.0', ..., '1', '0', '38190.78']], dtype='<U9')"
            ]
          },
          "metadata": {
            "tags": []
          },
          "execution_count": 91
        }
      ]
    },
    {
      "cell_type": "code",
      "metadata": {
        "id": "jcn8LO7BWYgl",
        "colab_type": "code",
        "colab": {
          "base_uri": "https://localhost:8080/",
          "height": 204
        },
        "outputId": "b5b7b5e6-7521-45d5-8e47-eddf44332ec6"
      },
      "source": [
        "xd=pd.DataFrame(X)\n",
        "xd.head(5)"
      ],
      "execution_count": 92,
      "outputs": [
        {
          "output_type": "execute_result",
          "data": {
            "text/html": [
              "<div>\n",
              "<style scoped>\n",
              "    .dataframe tbody tr th:only-of-type {\n",
              "        vertical-align: middle;\n",
              "    }\n",
              "\n",
              "    .dataframe tbody tr th {\n",
              "        vertical-align: top;\n",
              "    }\n",
              "\n",
              "    .dataframe thead th {\n",
              "        text-align: right;\n",
              "    }\n",
              "</style>\n",
              "<table border=\"1\" class=\"dataframe\">\n",
              "  <thead>\n",
              "    <tr style=\"text-align: right;\">\n",
              "      <th></th>\n",
              "      <th>0</th>\n",
              "      <th>1</th>\n",
              "      <th>2</th>\n",
              "      <th>3</th>\n",
              "      <th>4</th>\n",
              "      <th>5</th>\n",
              "      <th>6</th>\n",
              "      <th>7</th>\n",
              "      <th>8</th>\n",
              "      <th>9</th>\n",
              "      <th>10</th>\n",
              "      <th>11</th>\n",
              "    </tr>\n",
              "  </thead>\n",
              "  <tbody>\n",
              "    <tr>\n",
              "      <th>0</th>\n",
              "      <td>1.0</td>\n",
              "      <td>0.0</td>\n",
              "      <td>0.0</td>\n",
              "      <td>619</td>\n",
              "      <td>0</td>\n",
              "      <td>42</td>\n",
              "      <td>2</td>\n",
              "      <td>0.0</td>\n",
              "      <td>1</td>\n",
              "      <td>1</td>\n",
              "      <td>1</td>\n",
              "      <td>101348.88</td>\n",
              "    </tr>\n",
              "    <tr>\n",
              "      <th>1</th>\n",
              "      <td>0.0</td>\n",
              "      <td>0.0</td>\n",
              "      <td>1.0</td>\n",
              "      <td>608</td>\n",
              "      <td>0</td>\n",
              "      <td>41</td>\n",
              "      <td>1</td>\n",
              "      <td>83807.86</td>\n",
              "      <td>1</td>\n",
              "      <td>0</td>\n",
              "      <td>1</td>\n",
              "      <td>112542.58</td>\n",
              "    </tr>\n",
              "    <tr>\n",
              "      <th>2</th>\n",
              "      <td>1.0</td>\n",
              "      <td>0.0</td>\n",
              "      <td>0.0</td>\n",
              "      <td>502</td>\n",
              "      <td>0</td>\n",
              "      <td>42</td>\n",
              "      <td>8</td>\n",
              "      <td>159660.8</td>\n",
              "      <td>3</td>\n",
              "      <td>1</td>\n",
              "      <td>0</td>\n",
              "      <td>113931.57</td>\n",
              "    </tr>\n",
              "    <tr>\n",
              "      <th>3</th>\n",
              "      <td>1.0</td>\n",
              "      <td>0.0</td>\n",
              "      <td>0.0</td>\n",
              "      <td>699</td>\n",
              "      <td>0</td>\n",
              "      <td>39</td>\n",
              "      <td>1</td>\n",
              "      <td>0.0</td>\n",
              "      <td>2</td>\n",
              "      <td>0</td>\n",
              "      <td>0</td>\n",
              "      <td>93826.63</td>\n",
              "    </tr>\n",
              "    <tr>\n",
              "      <th>4</th>\n",
              "      <td>0.0</td>\n",
              "      <td>0.0</td>\n",
              "      <td>1.0</td>\n",
              "      <td>850</td>\n",
              "      <td>0</td>\n",
              "      <td>43</td>\n",
              "      <td>2</td>\n",
              "      <td>125510.82</td>\n",
              "      <td>1</td>\n",
              "      <td>1</td>\n",
              "      <td>1</td>\n",
              "      <td>79084.1</td>\n",
              "    </tr>\n",
              "  </tbody>\n",
              "</table>\n",
              "</div>"
            ],
            "text/plain": [
              "     0    1    2    3  4   5  6          7  8  9 10         11\n",
              "0  1.0  0.0  0.0  619  0  42  2        0.0  1  1  1  101348.88\n",
              "1  0.0  0.0  1.0  608  0  41  1   83807.86  1  0  1  112542.58\n",
              "2  1.0  0.0  0.0  502  0  42  8   159660.8  3  1  0  113931.57\n",
              "3  1.0  0.0  0.0  699  0  39  1        0.0  2  0  0   93826.63\n",
              "4  0.0  0.0  1.0  850  0  43  2  125510.82  1  1  1    79084.1"
            ]
          },
          "metadata": {
            "tags": []
          },
          "execution_count": 92
        }
      ]
    },
    {
      "cell_type": "code",
      "metadata": {
        "id": "9JI_ub1VY9bg",
        "colab_type": "code",
        "colab": {}
      },
      "source": [
        "X= X[:,1:]"
      ],
      "execution_count": 0,
      "outputs": []
    },
    {
      "cell_type": "code",
      "metadata": {
        "id": "Lm-dOo68HTFo",
        "colab_type": "code",
        "colab": {}
      },
      "source": [
        "from sklearn.model_selection import train_test_split\n",
        "x_train,x_test,y_train,y_test = train_test_split(X,y,test_size=0.2,random_state=0)"
      ],
      "execution_count": 0,
      "outputs": []
    },
    {
      "cell_type": "code",
      "metadata": {
        "id": "yUXN9LPlZF_v",
        "colab_type": "code",
        "colab": {}
      },
      "source": [
        "from sklearn.preprocessing import StandardScaler\n",
        "sc= StandardScaler()\n",
        "x_train =sc.fit_transform(x_train)\n",
        "x_test=sc.transform(x_test)"
      ],
      "execution_count": 0,
      "outputs": []
    },
    {
      "cell_type": "code",
      "metadata": {
        "id": "Aaj0_2CUaD53",
        "colab_type": "code",
        "colab": {}
      },
      "source": [
        "from keras.models import Sequential\n",
        "from keras.layers import Dense"
      ],
      "execution_count": 0,
      "outputs": []
    },
    {
      "cell_type": "code",
      "metadata": {
        "id": "ssE_ISxJb7Sw",
        "colab_type": "code",
        "colab": {
          "base_uri": "https://localhost:8080/",
          "height": 34
        },
        "outputId": "c79989b1-e5b8-4e9f-d3df-32e14c2b36e9"
      },
      "source": [
        "ann = Sequential()\n",
        "print(\"set\")"
      ],
      "execution_count": 114,
      "outputs": [
        {
          "output_type": "stream",
          "text": [
            "set\n"
          ],
          "name": "stdout"
        }
      ]
    },
    {
      "cell_type": "code",
      "metadata": {
        "id": "Z202y4QKdU8n",
        "colab_type": "code",
        "colab": {
          "base_uri": "https://localhost:8080/",
          "height": 34
        },
        "outputId": "5f5fdf05-5397-42aa-aa52-220e634afdc6"
      },
      "source": [
        "x_train.shape"
      ],
      "execution_count": 96,
      "outputs": [
        {
          "output_type": "execute_result",
          "data": {
            "text/plain": [
              "(8000, 11)"
            ]
          },
          "metadata": {
            "tags": []
          },
          "execution_count": 96
        }
      ]
    },
    {
      "cell_type": "code",
      "metadata": {
        "id": "NNLVHvdhgGft",
        "colab_type": "code",
        "colab": {}
      },
      "source": [
        "ann.add(Dense(units=6,kernel_initializer='uniform',activation='relu'))\n"
      ],
      "execution_count": 0,
      "outputs": []
    },
    {
      "cell_type": "code",
      "metadata": {
        "id": "1vqUQ2k9hshk",
        "colab_type": "code",
        "colab": {
          "base_uri": "https://localhost:8080/",
          "height": 34
        },
        "outputId": "6d1102e5-e222-4b8e-fd97-04ac0ea7e9fb"
      },
      "source": [
        "ann.add(Dense(units=6,kernel_initializer='uniform',activation='relu'))\n",
        "print(\"layer two\")"
      ],
      "execution_count": 116,
      "outputs": [
        {
          "output_type": "stream",
          "text": [
            "layer two\n"
          ],
          "name": "stdout"
        }
      ]
    },
    {
      "cell_type": "code",
      "metadata": {
        "id": "yiO3rROfin5w",
        "colab_type": "code",
        "colab": {}
      },
      "source": [
        "ann.add(Dense(units=1,kernel_initializer='uniform',activation='sigmoid'))"
      ],
      "execution_count": 0,
      "outputs": []
    },
    {
      "cell_type": "code",
      "metadata": {
        "id": "xYh44aEjjn-W",
        "colab_type": "code",
        "colab": {}
      },
      "source": [
        "ann.compile(optimizer='adam',loss='binary_crossentropy',metrics=['accuracy'])"
      ],
      "execution_count": 0,
      "outputs": []
    },
    {
      "cell_type": "code",
      "metadata": {
        "id": "2Qo_10gklOWu",
        "colab_type": "code",
        "colab": {
          "base_uri": "https://localhost:8080/",
          "height": 1000
        },
        "outputId": "2641cb2c-d7d2-4c7c-e5d2-2b97d5cc73f4"
      },
      "source": [
        "ann.fit(x_train,y_train,batch_size=10,epochs=100)"
      ],
      "execution_count": 122,
      "outputs": [
        {
          "output_type": "stream",
          "text": [
            "Epoch 1/100\n",
            "8000/8000 [==============================] - 1s 109us/step - loss: 0.4521 - accuracy: 0.7960\n",
            "Epoch 2/100\n",
            "8000/8000 [==============================] - 1s 109us/step - loss: 0.4174 - accuracy: 0.8206\n",
            "Epoch 3/100\n",
            "8000/8000 [==============================] - 1s 107us/step - loss: 0.4055 - accuracy: 0.8354\n",
            "Epoch 4/100\n",
            "8000/8000 [==============================] - 1s 108us/step - loss: 0.3983 - accuracy: 0.8370\n",
            "Epoch 5/100\n",
            "8000/8000 [==============================] - 1s 108us/step - loss: 0.3913 - accuracy: 0.8407\n",
            "Epoch 6/100\n",
            "8000/8000 [==============================] - 1s 109us/step - loss: 0.3827 - accuracy: 0.8445\n",
            "Epoch 7/100\n",
            "8000/8000 [==============================] - 1s 106us/step - loss: 0.3732 - accuracy: 0.8487\n",
            "Epoch 8/100\n",
            "8000/8000 [==============================] - 1s 116us/step - loss: 0.3625 - accuracy: 0.8529\n",
            "Epoch 9/100\n",
            "8000/8000 [==============================] - 1s 119us/step - loss: 0.3554 - accuracy: 0.8539\n",
            "Epoch 10/100\n",
            "8000/8000 [==============================] - 1s 117us/step - loss: 0.3507 - accuracy: 0.8589\n",
            "Epoch 11/100\n",
            "8000/8000 [==============================] - 1s 113us/step - loss: 0.3486 - accuracy: 0.8577\n",
            "Epoch 12/100\n",
            "8000/8000 [==============================] - 1s 116us/step - loss: 0.3469 - accuracy: 0.8587\n",
            "Epoch 13/100\n",
            "8000/8000 [==============================] - 1s 115us/step - loss: 0.3450 - accuracy: 0.8596\n",
            "Epoch 14/100\n",
            "8000/8000 [==============================] - 1s 114us/step - loss: 0.3440 - accuracy: 0.8584\n",
            "Epoch 15/100\n",
            "8000/8000 [==============================] - 1s 114us/step - loss: 0.3439 - accuracy: 0.8579\n",
            "Epoch 16/100\n",
            "8000/8000 [==============================] - 1s 115us/step - loss: 0.3427 - accuracy: 0.8606\n",
            "Epoch 17/100\n",
            "8000/8000 [==============================] - 1s 117us/step - loss: 0.3426 - accuracy: 0.8602\n",
            "Epoch 18/100\n",
            "8000/8000 [==============================] - 1s 116us/step - loss: 0.3416 - accuracy: 0.8596\n",
            "Epoch 19/100\n",
            "8000/8000 [==============================] - 1s 111us/step - loss: 0.3417 - accuracy: 0.8585\n",
            "Epoch 20/100\n",
            "8000/8000 [==============================] - 1s 109us/step - loss: 0.3410 - accuracy: 0.8600\n",
            "Epoch 21/100\n",
            "8000/8000 [==============================] - 1s 111us/step - loss: 0.3411 - accuracy: 0.8601\n",
            "Epoch 22/100\n",
            "8000/8000 [==============================] - 1s 106us/step - loss: 0.3406 - accuracy: 0.8604\n",
            "Epoch 23/100\n",
            "8000/8000 [==============================] - 1s 106us/step - loss: 0.3401 - accuracy: 0.8597\n",
            "Epoch 24/100\n",
            "8000/8000 [==============================] - 1s 108us/step - loss: 0.3397 - accuracy: 0.8612\n",
            "Epoch 25/100\n",
            "8000/8000 [==============================] - 1s 107us/step - loss: 0.3402 - accuracy: 0.8600\n",
            "Epoch 26/100\n",
            "8000/8000 [==============================] - 1s 110us/step - loss: 0.3389 - accuracy: 0.8622\n",
            "Epoch 27/100\n",
            "8000/8000 [==============================] - 1s 106us/step - loss: 0.3396 - accuracy: 0.8605\n",
            "Epoch 28/100\n",
            "8000/8000 [==============================] - 1s 106us/step - loss: 0.3394 - accuracy: 0.8606\n",
            "Epoch 29/100\n",
            "8000/8000 [==============================] - 1s 107us/step - loss: 0.3391 - accuracy: 0.8631\n",
            "Epoch 30/100\n",
            "8000/8000 [==============================] - 1s 107us/step - loss: 0.3385 - accuracy: 0.8609\n",
            "Epoch 31/100\n",
            "8000/8000 [==============================] - 1s 107us/step - loss: 0.3385 - accuracy: 0.8609\n",
            "Epoch 32/100\n",
            "8000/8000 [==============================] - 1s 105us/step - loss: 0.3386 - accuracy: 0.8611\n",
            "Epoch 33/100\n",
            "8000/8000 [==============================] - 1s 107us/step - loss: 0.3378 - accuracy: 0.8630\n",
            "Epoch 34/100\n",
            "8000/8000 [==============================] - 1s 109us/step - loss: 0.3379 - accuracy: 0.8634\n",
            "Epoch 35/100\n",
            "8000/8000 [==============================] - 1s 109us/step - loss: 0.3380 - accuracy: 0.8627\n",
            "Epoch 36/100\n",
            "8000/8000 [==============================] - 1s 105us/step - loss: 0.3375 - accuracy: 0.8627\n",
            "Epoch 37/100\n",
            "8000/8000 [==============================] - 1s 109us/step - loss: 0.3375 - accuracy: 0.8620\n",
            "Epoch 38/100\n",
            "8000/8000 [==============================] - 1s 105us/step - loss: 0.3377 - accuracy: 0.8625\n",
            "Epoch 39/100\n",
            "8000/8000 [==============================] - 1s 107us/step - loss: 0.3378 - accuracy: 0.8624\n",
            "Epoch 40/100\n",
            "8000/8000 [==============================] - 1s 107us/step - loss: 0.3376 - accuracy: 0.8626\n",
            "Epoch 41/100\n",
            "8000/8000 [==============================] - 1s 108us/step - loss: 0.3365 - accuracy: 0.8610\n",
            "Epoch 42/100\n",
            "8000/8000 [==============================] - 1s 106us/step - loss: 0.3371 - accuracy: 0.8615\n",
            "Epoch 43/100\n",
            "8000/8000 [==============================] - 1s 107us/step - loss: 0.3365 - accuracy: 0.8624\n",
            "Epoch 44/100\n",
            "8000/8000 [==============================] - 1s 108us/step - loss: 0.3367 - accuracy: 0.8630\n",
            "Epoch 45/100\n",
            "8000/8000 [==============================] - 1s 107us/step - loss: 0.3370 - accuracy: 0.8625\n",
            "Epoch 46/100\n",
            "8000/8000 [==============================] - 1s 109us/step - loss: 0.3368 - accuracy: 0.8616\n",
            "Epoch 47/100\n",
            "8000/8000 [==============================] - 1s 107us/step - loss: 0.3361 - accuracy: 0.8616\n",
            "Epoch 48/100\n",
            "8000/8000 [==============================] - 1s 107us/step - loss: 0.3361 - accuracy: 0.8625\n",
            "Epoch 49/100\n",
            "8000/8000 [==============================] - 1s 107us/step - loss: 0.3364 - accuracy: 0.8616\n",
            "Epoch 50/100\n",
            "8000/8000 [==============================] - 1s 107us/step - loss: 0.3358 - accuracy: 0.8633\n",
            "Epoch 51/100\n",
            "8000/8000 [==============================] - 1s 107us/step - loss: 0.3360 - accuracy: 0.8634\n",
            "Epoch 52/100\n",
            "8000/8000 [==============================] - 1s 109us/step - loss: 0.3357 - accuracy: 0.8627\n",
            "Epoch 53/100\n",
            "8000/8000 [==============================] - 1s 107us/step - loss: 0.3357 - accuracy: 0.8616\n",
            "Epoch 54/100\n",
            "8000/8000 [==============================] - 1s 107us/step - loss: 0.3359 - accuracy: 0.8616\n",
            "Epoch 55/100\n",
            "8000/8000 [==============================] - 1s 109us/step - loss: 0.3357 - accuracy: 0.8633\n",
            "Epoch 56/100\n",
            "8000/8000 [==============================] - 1s 107us/step - loss: 0.3352 - accuracy: 0.8634\n",
            "Epoch 57/100\n",
            "8000/8000 [==============================] - 1s 106us/step - loss: 0.3349 - accuracy: 0.8640\n",
            "Epoch 58/100\n",
            "8000/8000 [==============================] - 1s 111us/step - loss: 0.3357 - accuracy: 0.8633\n",
            "Epoch 59/100\n",
            "8000/8000 [==============================] - 1s 107us/step - loss: 0.3353 - accuracy: 0.8615\n",
            "Epoch 60/100\n",
            "8000/8000 [==============================] - 1s 109us/step - loss: 0.3349 - accuracy: 0.8619\n",
            "Epoch 61/100\n",
            "8000/8000 [==============================] - 1s 106us/step - loss: 0.3344 - accuracy: 0.8630\n",
            "Epoch 62/100\n",
            "8000/8000 [==============================] - 1s 106us/step - loss: 0.3347 - accuracy: 0.8637\n",
            "Epoch 63/100\n",
            "8000/8000 [==============================] - 1s 106us/step - loss: 0.3341 - accuracy: 0.8636\n",
            "Epoch 64/100\n",
            "8000/8000 [==============================] - 1s 105us/step - loss: 0.3338 - accuracy: 0.8615\n",
            "Epoch 65/100\n",
            "8000/8000 [==============================] - 1s 108us/step - loss: 0.3339 - accuracy: 0.8643\n",
            "Epoch 66/100\n",
            "8000/8000 [==============================] - 1s 107us/step - loss: 0.3336 - accuracy: 0.8633\n",
            "Epoch 67/100\n",
            "8000/8000 [==============================] - 1s 108us/step - loss: 0.3337 - accuracy: 0.8624\n",
            "Epoch 68/100\n",
            "8000/8000 [==============================] - 1s 106us/step - loss: 0.3338 - accuracy: 0.8640\n",
            "Epoch 69/100\n",
            "8000/8000 [==============================] - 1s 105us/step - loss: 0.3333 - accuracy: 0.8634\n",
            "Epoch 70/100\n",
            "8000/8000 [==============================] - 1s 106us/step - loss: 0.3332 - accuracy: 0.8627\n",
            "Epoch 71/100\n",
            "8000/8000 [==============================] - 1s 107us/step - loss: 0.3340 - accuracy: 0.8633\n",
            "Epoch 72/100\n",
            "8000/8000 [==============================] - 1s 109us/step - loss: 0.3335 - accuracy: 0.8615\n",
            "Epoch 73/100\n",
            "8000/8000 [==============================] - 1s 109us/step - loss: 0.3328 - accuracy: 0.8627\n",
            "Epoch 74/100\n",
            "8000/8000 [==============================] - 1s 107us/step - loss: 0.3327 - accuracy: 0.8615\n",
            "Epoch 75/100\n",
            "8000/8000 [==============================] - 1s 108us/step - loss: 0.3333 - accuracy: 0.8650\n",
            "Epoch 76/100\n",
            "8000/8000 [==============================] - 1s 108us/step - loss: 0.3333 - accuracy: 0.8631\n",
            "Epoch 77/100\n",
            "8000/8000 [==============================] - 1s 110us/step - loss: 0.3330 - accuracy: 0.8622\n",
            "Epoch 78/100\n",
            "8000/8000 [==============================] - 1s 106us/step - loss: 0.3327 - accuracy: 0.8631\n",
            "Epoch 79/100\n",
            "8000/8000 [==============================] - 1s 107us/step - loss: 0.3327 - accuracy: 0.8636\n",
            "Epoch 80/100\n",
            "8000/8000 [==============================] - 1s 110us/step - loss: 0.3325 - accuracy: 0.8631\n",
            "Epoch 81/100\n",
            "8000/8000 [==============================] - 1s 110us/step - loss: 0.3325 - accuracy: 0.8637\n",
            "Epoch 82/100\n",
            "8000/8000 [==============================] - 1s 107us/step - loss: 0.3323 - accuracy: 0.8646\n",
            "Epoch 83/100\n",
            "8000/8000 [==============================] - 1s 110us/step - loss: 0.3325 - accuracy: 0.8606\n",
            "Epoch 84/100\n",
            "8000/8000 [==============================] - 1s 109us/step - loss: 0.3322 - accuracy: 0.8633\n",
            "Epoch 85/100\n",
            "8000/8000 [==============================] - 1s 109us/step - loss: 0.3327 - accuracy: 0.8640\n",
            "Epoch 86/100\n",
            "8000/8000 [==============================] - 1s 106us/step - loss: 0.3321 - accuracy: 0.8637\n",
            "Epoch 87/100\n",
            "8000/8000 [==============================] - 1s 109us/step - loss: 0.3323 - accuracy: 0.8620\n",
            "Epoch 88/100\n",
            "8000/8000 [==============================] - 1s 108us/step - loss: 0.3321 - accuracy: 0.8640\n",
            "Epoch 89/100\n",
            "8000/8000 [==============================] - 1s 109us/step - loss: 0.3323 - accuracy: 0.8635\n",
            "Epoch 90/100\n",
            "8000/8000 [==============================] - 1s 109us/step - loss: 0.3323 - accuracy: 0.8626\n",
            "Epoch 91/100\n",
            "8000/8000 [==============================] - 1s 109us/step - loss: 0.3319 - accuracy: 0.8627\n",
            "Epoch 92/100\n",
            "8000/8000 [==============================] - 1s 106us/step - loss: 0.3320 - accuracy: 0.8631\n",
            "Epoch 93/100\n",
            "8000/8000 [==============================] - 1s 107us/step - loss: 0.3320 - accuracy: 0.8627\n",
            "Epoch 94/100\n",
            "8000/8000 [==============================] - 1s 108us/step - loss: 0.3320 - accuracy: 0.8631\n",
            "Epoch 95/100\n",
            "8000/8000 [==============================] - 1s 109us/step - loss: 0.3312 - accuracy: 0.8645\n",
            "Epoch 96/100\n",
            "8000/8000 [==============================] - 1s 111us/step - loss: 0.3313 - accuracy: 0.8635\n",
            "Epoch 97/100\n",
            "8000/8000 [==============================] - 1s 106us/step - loss: 0.3311 - accuracy: 0.8645\n",
            "Epoch 98/100\n",
            "8000/8000 [==============================] - 1s 109us/step - loss: 0.3317 - accuracy: 0.8643\n",
            "Epoch 99/100\n",
            "8000/8000 [==============================] - 1s 110us/step - loss: 0.3313 - accuracy: 0.8645\n",
            "Epoch 100/100\n",
            "8000/8000 [==============================] - 1s 110us/step - loss: 0.3312 - accuracy: 0.8633\n"
          ],
          "name": "stdout"
        },
        {
          "output_type": "execute_result",
          "data": {
            "text/plain": [
              "<keras.callbacks.callbacks.History at 0x7fa7f19a0d30>"
            ]
          },
          "metadata": {
            "tags": []
          },
          "execution_count": 122
        }
      ]
    },
    {
      "cell_type": "code",
      "metadata": {
        "id": "OZ_1fTIGn2jB",
        "colab_type": "code",
        "colab": {}
      },
      "source": [
        "y_pred = ann.predict(x_test)"
      ],
      "execution_count": 0,
      "outputs": []
    },
    {
      "cell_type": "code",
      "metadata": {
        "id": "mDGtyLGMo-1D",
        "colab_type": "code",
        "colab": {}
      },
      "source": [
        "y_pred= (y_pred>0.5)"
      ],
      "execution_count": 0,
      "outputs": []
    },
    {
      "cell_type": "code",
      "metadata": {
        "id": "91qMEyczpgLT",
        "colab_type": "code",
        "colab": {
          "base_uri": "https://localhost:8080/",
          "height": 136
        },
        "outputId": "e793c836-9f46-4812-ab36-f66f7c520ad4"
      },
      "source": [
        "y_pred"
      ],
      "execution_count": 126,
      "outputs": [
        {
          "output_type": "execute_result",
          "data": {
            "text/plain": [
              "array([[False],\n",
              "       [False],\n",
              "       [False],\n",
              "       ...,\n",
              "       [False],\n",
              "       [False],\n",
              "       [False]])"
            ]
          },
          "metadata": {
            "tags": []
          },
          "execution_count": 126
        }
      ]
    },
    {
      "cell_type": "code",
      "metadata": {
        "id": "On_IZnyxoIL-",
        "colab_type": "code",
        "colab": {
          "base_uri": "https://localhost:8080/",
          "height": 34
        },
        "outputId": "8df2908c-b034-4558-992d-0f66d79229e7"
      },
      "source": [
        "from sklearn.metrics import accuracy_score\n",
        "accuracy_score(y_test,y_pred)"
      ],
      "execution_count": 127,
      "outputs": [
        {
          "output_type": "execute_result",
          "data": {
            "text/plain": [
              "0.8565"
            ]
          },
          "metadata": {
            "tags": []
          },
          "execution_count": 127
        }
      ]
    }
  ]
}