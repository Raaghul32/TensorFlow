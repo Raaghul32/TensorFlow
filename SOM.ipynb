{
  "nbformat": 4,
  "nbformat_minor": 0,
  "metadata": {
    "colab": {
      "name": "SOM.ipynb",
      "provenance": [],
      "authorship_tag": "ABX9TyO5jFBzHst8p/V6On2MX1t+",
      "include_colab_link": true
    },
    "kernelspec": {
      "name": "python3",
      "display_name": "Python 3"
    }
  },
  "cells": [
    {
      "cell_type": "markdown",
      "metadata": {
        "id": "view-in-github",
        "colab_type": "text"
      },
      "source": [
        "<a href=\"https://colab.research.google.com/github/Raaghul32/TensorFlow/blob/master/SOM.ipynb\" target=\"_parent\"><img src=\"https://colab.research.google.com/assets/colab-badge.svg\" alt=\"Open In Colab\"/></a>"
      ]
    },
    {
      "cell_type": "code",
      "metadata": {
        "id": "Dc3PqC_vY02b",
        "colab_type": "code",
        "colab": {
          "base_uri": "https://localhost:8080/",
          "height": 170
        },
        "outputId": "af6cb259-c2cf-46cc-cfd9-aad014f50b0a"
      },
      "source": [
        "!pip install minisom"
      ],
      "execution_count": 2,
      "outputs": [
        {
          "output_type": "stream",
          "text": [
            "Collecting minisom\n",
            "  Downloading https://files.pythonhosted.org/packages/10/17/88e894b68c062f6917e77a657927c9199b63d24ebbd0c34682816d3c770d/MiniSom-2.2.5.tar.gz\n",
            "Building wheels for collected packages: minisom\n",
            "  Building wheel for minisom (setup.py) ... \u001b[?25l\u001b[?25hdone\n",
            "  Created wheel for minisom: filename=MiniSom-2.2.5-cp36-none-any.whl size=8474 sha256=c318148cb7893ff24f9307249465e9f6246a80b068113e5fdbb2ba6f6c6e07a9\n",
            "  Stored in directory: /root/.cache/pip/wheels/39/5b/16/cc9402ffc58cafb1da6997e5c94b1bde65e8cb214907879fd4\n",
            "Successfully built minisom\n",
            "Installing collected packages: minisom\n",
            "Successfully installed minisom-2.2.5\n"
          ],
          "name": "stdout"
        }
      ]
    },
    {
      "cell_type": "code",
      "metadata": {
        "id": "4bi69W5vdbih",
        "colab_type": "code",
        "colab": {
          "base_uri": "https://localhost:8080/",
          "height": 1000
        },
        "outputId": "2a77dea5-02bf-44e4-bffb-837f9801f260"
      },
      "source": [
        "!pip install som"
      ],
      "execution_count": 4,
      "outputs": [
        {
          "output_type": "stream",
          "text": [
            "Collecting som\n",
            "\u001b[?25l  Downloading https://files.pythonhosted.org/packages/70/89/2a38a0e849dd48cfbd38151e829b9febc293ac8f7ebc756b5cb7508bef86/som-0.2.3.tar.gz (103kB)\n",
            "\r\u001b[K     |███▏                            | 10kB 15.1MB/s eta 0:00:01\r\u001b[K     |██████▍                         | 20kB 4.3MB/s eta 0:00:01\r\u001b[K     |█████████▌                      | 30kB 6.0MB/s eta 0:00:01\r\u001b[K     |████████████▊                   | 40kB 7.7MB/s eta 0:00:01\r\u001b[K     |███████████████▉                | 51kB 5.3MB/s eta 0:00:01\r\u001b[K     |███████████████████             | 61kB 5.8MB/s eta 0:00:01\r\u001b[K     |██████████████████████▏         | 71kB 6.2MB/s eta 0:00:01\r\u001b[K     |█████████████████████████▍      | 81kB 6.9MB/s eta 0:00:01\r\u001b[K     |████████████████████████████▋   | 92kB 7.0MB/s eta 0:00:01\r\u001b[K     |███████████████████████████████▊| 102kB 7.7MB/s eta 0:00:01\r\u001b[K     |████████████████████████████████| 112kB 7.7MB/s \n",
            "\u001b[?25hCollecting deid>=0.0.3\n",
            "\u001b[?25l  Downloading https://files.pythonhosted.org/packages/d1/ca/b70781547cff3d0ee01a2f3e49d6637d0ab07f2d9cd87b6c738ce6d1b09d/deid-0.2.12.tar.gz (15.2MB)\n",
            "\u001b[K     |████████████████████████████████| 15.2MB 290kB/s \n",
            "\u001b[?25hRequirement already satisfied: requests>=2.12.4 in /usr/local/lib/python3.6/dist-packages (from som) (2.23.0)\n",
            "Requirement already satisfied: retrying>=1.3.3 in /usr/local/lib/python3.6/dist-packages (from som) (1.3.3)\n",
            "Collecting simplejson>=3.10.0\n",
            "\u001b[?25l  Downloading https://files.pythonhosted.org/packages/98/87/a7b98aa9256c8843f92878966dc3d8d914c14aad97e2c5ce4798d5743e07/simplejson-3.17.0.tar.gz (83kB)\n",
            "\u001b[K     |████████████████████████████████| 92kB 7.8MB/s \n",
            "\u001b[?25hRequirement already satisfied: six>=1.10 in /usr/local/lib/python3.6/dist-packages (from som) (1.12.0)\n",
            "Requirement already satisfied: pygments>=2.1.3 in /usr/local/lib/python3.6/dist-packages (from som) (2.1.3)\n",
            "Requirement already satisfied: python-dateutil in /usr/local/lib/python3.6/dist-packages (from som) (2.8.1)\n",
            "Requirement already satisfied: urllib3>=1.15 in /usr/local/lib/python3.6/dist-packages (from som) (1.24.3)\n",
            "Collecting validator.py\n",
            "  Downloading https://files.pythonhosted.org/packages/b3/79/d6e61f6876be260d1bd17fe58f11a1219196b15bfd67eb0939650e0680c4/validator.py-1.3.0-py2.py3-none-any.whl\n",
            "Requirement already satisfied: google-api-python-client in /usr/local/lib/python3.6/dist-packages (from som) (1.7.12)\n",
            "Requirement already satisfied: google-cloud-datastore in /usr/local/lib/python3.6/dist-packages (from som) (1.8.0)\n",
            "Collecting oauth2client==3.0\n",
            "\u001b[?25l  Downloading https://files.pythonhosted.org/packages/c0/7b/bc893e35d6ca46a72faa4b9eaac25c687ce60e1fbe978993fe2de1b0ff0d/oauth2client-3.0.0.tar.gz (77kB)\n",
            "\u001b[K     |████████████████████████████████| 81kB 8.6MB/s \n",
            "\u001b[?25hRequirement already satisfied: matplotlib in /usr/local/lib/python3.6/dist-packages (from deid>=0.0.3->som) (3.2.1)\n",
            "Collecting pydicom>=1.2.1\n",
            "\u001b[?25l  Downloading https://files.pythonhosted.org/packages/d3/56/342e1f8ce5afe63bf65c23d0b2c1cd5a05600caad1c211c39725d3a4cc56/pydicom-2.0.0-py3-none-any.whl (35.4MB)\n",
            "\u001b[K     |████████████████████████████████| 35.5MB 115kB/s \n",
            "\u001b[?25hRequirement already satisfied: chardet<4,>=3.0.2 in /usr/local/lib/python3.6/dist-packages (from requests>=2.12.4->som) (3.0.4)\n",
            "Requirement already satisfied: certifi>=2017.4.17 in /usr/local/lib/python3.6/dist-packages (from requests>=2.12.4->som) (2020.4.5.1)\n",
            "Requirement already satisfied: idna<3,>=2.5 in /usr/local/lib/python3.6/dist-packages (from requests>=2.12.4->som) (2.9)\n",
            "Requirement already satisfied: google-auth>=1.4.1 in /usr/local/lib/python3.6/dist-packages (from google-api-python-client->som) (1.7.2)\n",
            "Requirement already satisfied: uritemplate<4dev,>=3.0.0 in /usr/local/lib/python3.6/dist-packages (from google-api-python-client->som) (3.0.1)\n",
            "Requirement already satisfied: httplib2<1dev,>=0.17.0 in /usr/local/lib/python3.6/dist-packages (from google-api-python-client->som) (0.17.4)\n",
            "Requirement already satisfied: google-auth-httplib2>=0.0.3 in /usr/local/lib/python3.6/dist-packages (from google-api-python-client->som) (0.0.3)\n",
            "Requirement already satisfied: google-cloud-core<2.0dev,>=1.0.0 in /usr/local/lib/python3.6/dist-packages (from google-cloud-datastore->som) (1.0.3)\n",
            "Requirement already satisfied: google-api-core[grpc]<2.0.0dev,>=1.6.0 in /usr/local/lib/python3.6/dist-packages (from google-cloud-datastore->som) (1.16.0)\n",
            "Requirement already satisfied: pyasn1>=0.1.7 in /usr/local/lib/python3.6/dist-packages (from oauth2client==3.0->som) (0.4.8)\n",
            "Requirement already satisfied: pyasn1-modules>=0.0.5 in /usr/local/lib/python3.6/dist-packages (from oauth2client==3.0->som) (0.2.8)\n",
            "Requirement already satisfied: rsa>=3.1.4 in /usr/local/lib/python3.6/dist-packages (from oauth2client==3.0->som) (4.0)\n",
            "Requirement already satisfied: numpy>=1.11 in /usr/local/lib/python3.6/dist-packages (from matplotlib->deid>=0.0.3->som) (1.18.5)\n",
            "Requirement already satisfied: kiwisolver>=1.0.1 in /usr/local/lib/python3.6/dist-packages (from matplotlib->deid>=0.0.3->som) (1.2.0)\n",
            "Requirement already satisfied: cycler>=0.10 in /usr/local/lib/python3.6/dist-packages (from matplotlib->deid>=0.0.3->som) (0.10.0)\n",
            "Requirement already satisfied: pyparsing!=2.0.4,!=2.1.2,!=2.1.6,>=2.0.1 in /usr/local/lib/python3.6/dist-packages (from matplotlib->deid>=0.0.3->som) (2.4.7)\n",
            "Requirement already satisfied: setuptools>=40.3.0 in /usr/local/lib/python3.6/dist-packages (from google-auth>=1.4.1->google-api-python-client->som) (47.1.1)\n",
            "Requirement already satisfied: cachetools<3.2,>=2.0.0 in /usr/local/lib/python3.6/dist-packages (from google-auth>=1.4.1->google-api-python-client->som) (3.1.1)\n",
            "Requirement already satisfied: protobuf>=3.4.0 in /usr/local/lib/python3.6/dist-packages (from google-api-core[grpc]<2.0.0dev,>=1.6.0->google-cloud-datastore->som) (3.10.0)\n",
            "Requirement already satisfied: googleapis-common-protos<2.0dev,>=1.6.0 in /usr/local/lib/python3.6/dist-packages (from google-api-core[grpc]<2.0.0dev,>=1.6.0->google-cloud-datastore->som) (1.52.0)\n",
            "Requirement already satisfied: pytz in /usr/local/lib/python3.6/dist-packages (from google-api-core[grpc]<2.0.0dev,>=1.6.0->google-cloud-datastore->som) (2018.9)\n",
            "Requirement already satisfied: grpcio<2.0dev,>=1.8.2; extra == \"grpc\" in /usr/local/lib/python3.6/dist-packages (from google-api-core[grpc]<2.0.0dev,>=1.6.0->google-cloud-datastore->som) (1.29.0)\n",
            "Building wheels for collected packages: som, deid, simplejson, oauth2client\n",
            "  Building wheel for som (setup.py) ... \u001b[?25l\u001b[?25hdone\n",
            "  Created wheel for som: filename=som-0.2.3-cp36-none-any.whl size=141537 sha256=be797add686436753b08902752bb22ae54ddce11fe0130af5e236d312fb0340d\n",
            "  Stored in directory: /root/.cache/pip/wheels/20/a7/ad/fc949c350854ee29b67e95dc7d05b26f3986404370d00e0125\n",
            "  Building wheel for deid (setup.py) ... \u001b[?25l\u001b[?25hdone\n",
            "  Created wheel for deid: filename=deid-0.2.12-cp36-none-any.whl size=15228143 sha256=de81757d38daac76b814b1646ae6c278f74dd4f3902ed288b01aa1f61cf23533\n",
            "  Stored in directory: /root/.cache/pip/wheels/f9/dc/ab/c31a7abd4b448efc143b5b3fe43874e7f643908b1a7124f849\n",
            "  Building wheel for simplejson (setup.py) ... \u001b[?25l\u001b[?25hdone\n",
            "  Created wheel for simplejson: filename=simplejson-3.17.0-cp36-cp36m-linux_x86_64.whl size=114212 sha256=935c1d0b5bbaaa243059451fe7e92afba4cda400caf24e57632ca5d7a33be3a8\n",
            "  Stored in directory: /root/.cache/pip/wheels/86/c0/83/dcd0339abb2640544bb8e0938aab2d069cef55e5647ce6e097\n",
            "  Building wheel for oauth2client (setup.py) ... \u001b[?25l\u001b[?25hdone\n",
            "  Created wheel for oauth2client: filename=oauth2client-3.0.0-cp36-none-any.whl size=106382 sha256=a8603ed16fcf2f34d488280f339cf94cbcd3b0d943a2a88b6182d7712e29c6ac\n",
            "  Stored in directory: /root/.cache/pip/wheels/48/f7/87/b932f09c6335dbcf45d916937105a372ab14f353a9ca431d7d\n",
            "Successfully built som deid simplejson oauth2client\n",
            "\u001b[31mERROR: pydrive 1.3.1 has requirement oauth2client>=4.0.0, but you'll have oauth2client 3.0.0 which is incompatible.\u001b[0m\n",
            "Installing collected packages: pydicom, deid, simplejson, validator.py, oauth2client, som\n",
            "  Found existing installation: oauth2client 4.1.3\n",
            "    Uninstalling oauth2client-4.1.3:\n",
            "      Successfully uninstalled oauth2client-4.1.3\n",
            "Successfully installed deid-0.2.12 oauth2client-3.0.0 pydicom-2.0.0 simplejson-3.17.0 som-0.2.3 validator.py-1.3.0\n"
          ],
          "name": "stdout"
        }
      ]
    },
    {
      "cell_type": "code",
      "metadata": {
        "id": "Esw3Xx4vdSZ3",
        "colab_type": "code",
        "colab": {}
      },
      "source": [
        "from minisom import MiniSom"
      ],
      "execution_count": 0,
      "outputs": []
    },
    {
      "cell_type": "code",
      "metadata": {
        "id": "g4JDJpSxdw-J",
        "colab_type": "code",
        "colab": {}
      },
      "source": [
        "import som"
      ],
      "execution_count": 0,
      "outputs": []
    },
    {
      "cell_type": "code",
      "metadata": {
        "id": "6Sih8Idrd0bA",
        "colab_type": "code",
        "colab": {}
      },
      "source": [
        "import pandas as pd\n",
        "import numpy as np"
      ],
      "execution_count": 0,
      "outputs": []
    },
    {
      "cell_type": "code",
      "metadata": {
        "id": "Yw7x0-ApeEf4",
        "colab_type": "code",
        "colab": {}
      },
      "source": [
        "df=pd.read_csv('Credit_Card_Applications.csv')"
      ],
      "execution_count": 0,
      "outputs": []
    },
    {
      "cell_type": "code",
      "metadata": {
        "id": "wE_QBCTfeKco",
        "colab_type": "code",
        "colab": {}
      },
      "source": [
        "X=df.iloc[:, :-1].values\n",
        "y=df.iloc[:, -1].values"
      ],
      "execution_count": 0,
      "outputs": []
    },
    {
      "cell_type": "code",
      "metadata": {
        "id": "cHLbHGDJeyeJ",
        "colab_type": "code",
        "colab": {
          "base_uri": "https://localhost:8080/",
          "height": 34
        },
        "outputId": "60b85f3b-5993-49cd-ee2b-f9f01a44fcbd"
      },
      "source": [
        "X.shape"
      ],
      "execution_count": 10,
      "outputs": [
        {
          "output_type": "execute_result",
          "data": {
            "text/plain": [
              "(690, 15)"
            ]
          },
          "metadata": {
            "tags": []
          },
          "execution_count": 10
        }
      ]
    },
    {
      "cell_type": "code",
      "metadata": {
        "id": "a1S4IVQxeVRZ",
        "colab_type": "code",
        "colab": {}
      },
      "source": [
        "from sklearn.preprocessing import MinMaxScaler\n",
        "sc= MinMaxScaler()\n",
        "data=sc.fit_transform(X)"
      ],
      "execution_count": 0,
      "outputs": []
    },
    {
      "cell_type": "code",
      "metadata": {
        "id": "1iEigoi9enIA",
        "colab_type": "code",
        "colab": {}
      },
      "source": [
        "seli=MiniSom(10,10,input_len=15)"
      ],
      "execution_count": 0,
      "outputs": []
    },
    {
      "cell_type": "code",
      "metadata": {
        "id": "cUgUPikme8yS",
        "colab_type": "code",
        "colab": {}
      },
      "source": [
        "seli.random_weights_init(data)"
      ],
      "execution_count": 0,
      "outputs": []
    },
    {
      "cell_type": "code",
      "metadata": {
        "id": "K4Oe-Uu8fl1R",
        "colab_type": "code",
        "colab": {}
      },
      "source": [
        "seli.train_random(data=data,num_iteration=100)"
      ],
      "execution_count": 0,
      "outputs": []
    },
    {
      "cell_type": "code",
      "metadata": {
        "id": "N4JQ3X_RfvyJ",
        "colab_type": "code",
        "colab": {}
      },
      "source": [
        "from pylab import bone,pcolor,plot,show,colorbar"
      ],
      "execution_count": 0,
      "outputs": []
    },
    {
      "cell_type": "code",
      "metadata": {
        "id": "QUpOVkNagkFz",
        "colab_type": "code",
        "colab": {}
      },
      "source": [
        "import matplotlib.pyplot as plt\n"
      ],
      "execution_count": 0,
      "outputs": []
    },
    {
      "cell_type": "code",
      "metadata": {
        "id": "8MvJtl89gpHR",
        "colab_type": "code",
        "colab": {
          "base_uri": "https://localhost:8080/",
          "height": 269
        },
        "outputId": "3ffbe329-5f4a-4907-99d9-b13ff1333948"
      },
      "source": [
        "bone()\n",
        "pcolor(seli.distance_map().T)\n",
        "colorbar()\n",
        "markers =['o','s']\n",
        "colors = ['r','g']\n",
        "for i,x in enumerate(data):\n",
        "  w=seli.winner(x)\n",
        "  plot(w[0]+.5,w[1]+.5,markers[y[i]],markeredgecolor=colors[y[i]],markerfacecolor='None',markersize=10,markeredgewidth=2)\n",
        "show()"
      ],
      "execution_count": 20,
      "outputs": [
        {
          "output_type": "display_data",
          "data": {
            "image/png": "[encoded data removed]",
            "text/plain": [
              "<Figure size 432x288 with 2 Axes>"
            ]
          },
          "metadata": {
            "tags": [],
            "needs_background": "light"
          }
        }
      ]
    },
    {
      "cell_type": "code",
      "metadata": {
        "id": "mzOA5DPxllvA",
        "colab_type": "code",
        "colab": {}
      },
      "source": [
        "mappings= seli.win_map(data)"
      ],
      "execution_count": 0,
      "outputs": []
    },
    {
      "cell_type": "code",
      "metadata": {
        "id": "FlQlFOQbn37N",
        "colab_type": "code",
        "colab": {}
      },
      "source": [
        "frauds = mappings[(8,1)]"
      ],
      "execution_count": 0,
      "outputs": []
    },
    {
      "cell_type": "code",
      "metadata": {
        "id": "Hw2ZtvpPoI4p",
        "colab_type": "code",
        "colab": {}
      },
      "source": [
        "frauds= sc.inverse_transform(frauds)"
      ],
      "execution_count": 0,
      "outputs": []
    },
    {
      "cell_type": "code",
      "metadata": {
        "id": "EfBHArrNoPPA",
        "colab_type": "code",
        "colab": {}
      },
      "source": [
        "frauds=pd.DataFrame(frauds)"
      ],
      "execution_count": 0,
      "outputs": []
    },
    {
      "cell_type": "code",
      "metadata": {
        "id": "ylHxZ181oXTI",
        "colab_type": "code",
        "colab": {
          "base_uri": "https://localhost:8080/",
          "height": 34
        },
        "outputId": "a1334806-d8a5-4be2-f34c-fc56cb4e2a08"
      },
      "source": [
        "frauds.shape"
      ],
      "execution_count": 29,
      "outputs": [
        {
          "output_type": "execute_result",
          "data": {
            "text/plain": [
              "(8, 15)"
            ]
          },
          "metadata": {
            "tags": []
          },
          "execution_count": 29
        }
      ]
    }
  ]
}